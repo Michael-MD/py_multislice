{
 "cells": [
  {
   "cell_type": "markdown",
   "metadata": {},
   "source": [
    "We will simulate convergent beam electron diffraction (CBED) patterns for Dicalcium aluminium alumosilicate (http://www.crystallography.net/cod/1000048.html). This calculation ran in 22 seconds on my home 2 GB NVIDIA GTX 750 Ti and 5 min 22 seconds on my Intel i5 CPU."
   ]
  },
  {
   "cell_type": "code",
   "execution_count": null,
   "metadata": {
    "tags": []
   },
   "outputs": [],
   "source": [
    "import pyms\n",
    "import numpy as np\n",
    "import torch\n",
    "\n",
    "# Get crystal\n",
    "crystal = pyms.structure.fromfile('Structures/1000048.p1',temperature_factor_units='B')\n",
    "\n",
    "# Quick plot of crystal\n",
    "# crystal.quickplot()\n",
    "\n",
    "# Subslicing of crystal for multislice\n",
    "subslices = [0.33,0.66,1.0]\n",
    "\n",
    "# Grid size in pixels\n",
    "gridshape = [1024,1024]\n",
    "\n",
    "# Tile out grid to acceptable size\n",
    "tiling = [32,32]\n",
    "\n",
    "# Probe accelerating voltage in eV\n",
    "eV = 3e5\n",
    "\n",
    "# Probe forming aperture in mrad\n",
    "app = 3 \n",
    "\n",
    "# Number of frozen phonon passes\n",
    "nfph = 5\n",
    "\n",
    "# Choose device to run calculation on (GPU or CPU)\n",
    "# device = torch.device('cpu')\n",
    "device = torch.device('cuda:0')\n",
    "\n",
    "# Set up thickness series (up to a 1000 Angstrom in steps of 100 Angstrom)\n",
    "tstep = 100\n",
    "thicknesses = np.arange(tstep,1001,tstep)\n",
    "    \n",
    "output = pyms.CBED(\n",
    "    crystal,\n",
    "    gridshape,\n",
    "    eV,\n",
    "    app,\n",
    "    thicknesses,\n",
    "    subslices=subslices,\n",
    "    tiling=tiling,\n",
    "    nfph=nfph,\n",
    "    showProgress='notebook',\n",
    "    device_type=device,\n",
    ")\n",
    "\n",
    "#Now plot results\n",
    "import matplotlib.pyplot as plt\n",
    "%matplotlib inline\n",
    "nrows = int(np.ceil(np.sqrt(output.shape[0])))\n",
    "fig,axes = plt.subplots(nrows=nrows,ncols=nrows,figsize=(16,16))\n",
    "for ax in axes.ravel():\n",
    "    ax.set_axis_off()\n",
    "for i,out in enumerate(output):\n",
    "    ax = axes.ravel()[i]\n",
    "    ax.imshow(out)\n",
    "    ax.set_title('{0} $\\\\AA$'.format(thicknesses[i]))"
   ]
  },
  {
   "cell_type": "code",
   "execution_count": null,
   "metadata": {},
   "outputs": [],
   "source": []
  }
 ],
 "metadata": {
  "kernelspec": {
   "display_name": "Python 3 (ipykernel)",
   "language": "python",
   "name": "python3"
  },
  "language_info": {
   "codemirror_mode": {
    "name": "ipython",
    "version": 3
   },
   "file_extension": ".py",
   "mimetype": "text/x-python",
   "name": "python",
   "nbconvert_exporter": "python",
   "pygments_lexer": "ipython3",
   "version": "3.10.6"
  }
 },
 "nbformat": 4,
 "nbformat_minor": 4
}
