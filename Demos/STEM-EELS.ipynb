{
 "cells": [
  {
   "cell_type": "markdown",
   "metadata": {},
   "source": [
    "We first calculate an ionization transition potential for the Fe L edge (2p orbital) using the [Flexible Atomic Code (FAC)](https://github.com/flexible-atomic-code/fac). The Flexible atomic code will need to be installed, along with the pfac (python flexible atomic code interface).\n",
    "\n",
    "First calculate the structure of the bound and ionized Fe electron states."
   ]
  },
  {
   "cell_type": "code",
   "execution_count": null,
   "metadata": {},
   "outputs": [],
   "source": [
    "import pyms\n",
    "from pyms.Ionization import orbital,transition_potential\n",
    "%matplotlib inline\n",
    "\n",
    "# principal and orbital angular momentum quantum numbers for bound state\n",
    "n=2\n",
    "l=1\n",
    "FeL = orbital(26,'1s2 2s2 2p6 3s2 3p6 4s2 3d6',n,l)\n",
    "\n",
    "# Ionization energy (above ionization threshold energy)\n",
    "epsilon = 1\n",
    "# \n",
    "FeFree = orbital(26,'1s2 2s2 2p6 3s2 3p6 4s2 3d6',0,lprime,epsilon=epsilon)\n",
    "\n",
    "#angular momentum quantum number for ionized state\n",
    "lprime = 2\n",
    "\n",
    "\n",
    "#Plot the radial component of the wave function\n",
    "FeL.plot(show=False)\n",
    "FeFree.plot(show=False)\n"
   ]
  },
  {
   "cell_type": "code",
   "execution_count": null,
   "metadata": {},
   "outputs": [],
   "source": [
    "import numpy as np\n",
    "import matplotlib.pyplot as plt\n",
    "from Ionization import colorize\n",
    "# Now calculate the ionization transition potential that can be used in \n",
    "# a multislice simulation\n",
    "\n",
    "#Probe accelerating voltage\n",
    "keV = 100\n",
    "\n",
    "#Grid dimensions\n",
    "gridsize = [5,5]\n",
    "gridshape = [512,512]\n",
    "\n",
    "mls = np.arange(-l,l+1)\n",
    "mlprimes = np.arange(-lprime,lprime+1)\n",
    "\n",
    "fig,ax = plt.subplots(nrows = mlprimes.shape[0],ncols=mls.shape[0],\n",
    "                    figsize=(4*mls.shape[0],4*mlprimes.shape[0]))\n",
    "\n",
    "def crop(array,outsize):\n",
    "    insize = array.shape\n",
    "    return array[(insize[0]-outsize[0])//2:(insize[0]+outsize[0])//2,\n",
    "                 (insize[1]-outsize[1])//2:(insize[1]+outsize[1])//2]\n",
    "\n",
    "for iml,ml in enumerate(mls):\n",
    "    for imlprime,mlprime in enumerate(mlprimes):\n",
    "        Hn0 = transition_potential(FeL,FeFree,gridshape,gridsize,ml,\n",
    "                                 mlprime,keV)\n",
    "        Hn0 = np.fft.fftshift(Hn0)\n",
    "        ax[imlprime,iml].imshow(colorize(crop(Hn0,[x//4 for x in gridshape])))\n",
    "        title ='m$_\\ell$={0} m$_\\ell^\\prime$={1}'.format(ml,mlprime)\n",
    "        ax[imlprime,iml].set_title(title)\n",
    "        ax[imlprime,iml].set_axis_off()\n",
    "        "
   ]
  },
  {
   "cell_type": "code",
   "execution_count": null,
   "metadata": {},
   "outputs": [],
   "source": []
  }
 ],
 "metadata": {
  "kernelspec": {
   "display_name": "Python 3",
   "language": "python",
   "name": "python3"
  },
  "language_info": {
   "codemirror_mode": {
    "name": "ipython",
    "version": 3
   },
   "file_extension": ".py",
   "mimetype": "text/x-python",
   "name": "python",
   "nbconvert_exporter": "python",
   "pygments_lexer": "ipython3",
   "version": "3.7.3"
  }
 },
 "nbformat": 4,
 "nbformat_minor": 2
}
